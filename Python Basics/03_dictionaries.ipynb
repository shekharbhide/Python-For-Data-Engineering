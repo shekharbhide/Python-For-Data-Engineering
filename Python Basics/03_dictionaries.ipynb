{
 "cells": [
  {
   "cell_type": "code",
   "execution_count": 5,
   "metadata": {},
   "outputs": [
    {
     "name": "stdout",
     "output_type": "stream",
     "text": [
      "{'name': ['shekhar', 'sanket', 'shreyas'], 'age': [20, 21, 22], 'surname': ['bhide', 'dawange', 'bhor'], 'course_code': 230}\n"
     ]
    }
   ],
   "source": [
    "mdict = {'name':['shekhar','sanket','shreyas'], 'age':[20,21,22],'surname':['bhide', 'dawange','bhor'] \n",
    "         , 'course_code': 230}\n",
    "print(mdict)"
   ]
  },
  {
   "cell_type": "code",
   "execution_count": 3,
   "metadata": {},
   "outputs": [
    {
     "data": {
      "text/plain": [
       "3"
      ]
     },
     "execution_count": 3,
     "metadata": {},
     "output_type": "execute_result"
    }
   ],
   "source": [
    "len(mdict)"
   ]
  },
  {
   "cell_type": "code",
   "execution_count": 7,
   "metadata": {},
   "outputs": [
    {
     "name": "stdout",
     "output_type": "stream",
     "text": [
      "['bhide', 'dawange', 'bhor']\n",
      "['bhide', 'dawange', 'bhor']\n"
     ]
    }
   ],
   "source": [
    "# accessing the items\n",
    "print(mdict['surname'])\n",
    "\n",
    "print(mdict.get('surname'))\n"
   ]
  },
  {
   "cell_type": "code",
   "execution_count": 11,
   "metadata": {},
   "outputs": [
    {
     "name": "stdout",
     "output_type": "stream",
     "text": [
      "dict_keys(['name', 'age', 'surname', 'course_code'])\n",
      "dict_values([['shekhar', 'sanket', 'shreyas'], [20, 21, 22], ['bhide', 'dawange', 'bhor'], 230])\n"
     ]
    }
   ],
   "source": [
    "print(mdict.keys())\n",
    "print(mdict.values())"
   ]
  },
  {
   "cell_type": "code",
   "execution_count": 14,
   "metadata": {},
   "outputs": [
    {
     "name": "stdout",
     "output_type": "stream",
     "text": [
      "{'name': ['shekhar', 'sanket', 'shreyas'], 'age': [20, 21, 22], 'surname': ['bhide', 'dawange', 'bhor'], 'course_code': 230, 'college': 'SCOE'}\n",
      "dict_keys(['name', 'age', 'surname', 'course_code', 'college'])\n"
     ]
    }
   ],
   "source": [
    "# adding new item in list\n",
    "mdict['college']='SCOE'\n",
    "print(mdict)\n",
    "print(mdict.keys())"
   ]
  },
  {
   "cell_type": "code",
   "execution_count": 16,
   "metadata": {},
   "outputs": [
    {
     "name": "stdout",
     "output_type": "stream",
     "text": [
      "{'name': ['shekhar', 'sanket', 'shreyas'], 'age': [20, 21, 22], 'surname': ['bhide', 'dawange', 'bhor'], 'course_code': 230, 'college': 'KPG'}\n"
     ]
    }
   ],
   "source": [
    "# updating value of key\n",
    "mdict['college']='KPG'\n",
    "print(mdict)"
   ]
  },
  {
   "cell_type": "code",
   "execution_count": 18,
   "metadata": {},
   "outputs": [
    {
     "name": "stdout",
     "output_type": "stream",
     "text": [
      "dict_items([('name', ['shekhar', 'sanket', 'shreyas']), ('age', [20, 21, 22]), ('surname', ['bhide', 'dawange', 'bhor']), ('course_code', 230), ('college', 'KPG')])\n"
     ]
    }
   ],
   "source": [
    "print(mdict.items())"
   ]
  },
  {
   "cell_type": "code",
   "execution_count": 29,
   "metadata": {},
   "outputs": [
    {
     "name": "stdout",
     "output_type": "stream",
     "text": [
      "{'name': ['Tushar', 'vijay'], 'age': [20, 27], 'surname': ['borkar', 'kumar'], 'course_code': 230, 'college': 'KPG'}\n"
     ]
    }
   ],
   "source": [
    "# update the items in dictionaris\n",
    "mdict['name']= ['Tushar','vijay']\n",
    "\n",
    "# using update function\n",
    "mdict.update({'age':[20,27], 'surname':['borkar','kumar']})\n",
    "print(mdict)"
   ]
  },
  {
   "cell_type": "code",
   "execution_count": 34,
   "metadata": {},
   "outputs": [
    {
     "name": "stdout",
     "output_type": "stream",
     "text": [
      "{'name': ['Tushar', 'vijay'], 'age': [20, 27], 'surname': ['borkar', 'kumar'], 'college': 'KPG'}\n"
     ]
    }
   ],
   "source": [
    "mdict.pop('course_code')\n",
    "print(mdict)"
   ]
  },
  {
   "cell_type": "code",
   "execution_count": 35,
   "metadata": {},
   "outputs": [
    {
     "name": "stdout",
     "output_type": "stream",
     "text": [
      "{'name': ['Tushar', 'vijay'], 'age': [20, 27], 'surname': ['borkar', 'kumar']}\n"
     ]
    }
   ],
   "source": [
    "#popitem removes last \n",
    "mdict.popitem()\n",
    "print(mdict)"
   ]
  },
  {
   "cell_type": "code",
   "execution_count": 36,
   "metadata": {},
   "outputs": [
    {
     "name": "stdout",
     "output_type": "stream",
     "text": [
      "{'name': ['Tushar', 'vijay'], 'surname': ['borkar', 'kumar']}\n"
     ]
    }
   ],
   "source": [
    "# del delete specied item and even delete complete dictionary\n",
    "del mdict['age']\n",
    "print(mdict)"
   ]
  },
  {
   "cell_type": "code",
   "execution_count": 37,
   "metadata": {},
   "outputs": [],
   "source": [
    "del mdict"
   ]
  },
  {
   "cell_type": "code",
   "execution_count": 38,
   "metadata": {},
   "outputs": [
    {
     "ename": "NameError",
     "evalue": "name 'mdict' is not defined",
     "output_type": "error",
     "traceback": [
      "\u001b[1;31m---------------------------------------------------------------------------\u001b[0m",
      "\u001b[1;31mNameError\u001b[0m                                 Traceback (most recent call last)",
      "\u001b[1;32me:\\Python For DE\\Python Basics\\03_dictionaries.ipynb Cell 13\u001b[0m line \u001b[0;36m1\n\u001b[1;32m----> <a href='vscode-notebook-cell:/e%3A/Python%20For%20DE/Python%20Basics/03_dictionaries.ipynb#X16sZmlsZQ%3D%3D?line=0'>1</a>\u001b[0m \u001b[39mprint\u001b[39m(mdict)\n",
      "\u001b[1;31mNameError\u001b[0m: name 'mdict' is not defined"
     ]
    }
   ],
   "source": [
    "print(mdict)"
   ]
  },
  {
   "cell_type": "code",
   "execution_count": 39,
   "metadata": {},
   "outputs": [],
   "source": [
    "new_dict  = {'name': ['Tushar', 'vijay'], 'surname': ['borkar', 'kumar']}\n"
   ]
  },
  {
   "cell_type": "code",
   "execution_count": 41,
   "metadata": {},
   "outputs": [
    {
     "name": "stdout",
     "output_type": "stream",
     "text": [
      "{}\n"
     ]
    }
   ],
   "source": [
    "new_dict.clear() # empty the dict\n",
    "print(new_dict)"
   ]
  },
  {
   "cell_type": "code",
   "execution_count": 42,
   "metadata": {},
   "outputs": [],
   "source": [
    "fruits_dict = {\n",
    "    'apple': 'red',\n",
    "    'banana': 'yellow',\n",
    "    'grape': 'purple',\n",
    "    'orange': 'orange',\n",
    "    'watermelon': 'green'\n",
    "}"
   ]
  },
  {
   "cell_type": "code",
   "execution_count": 45,
   "metadata": {},
   "outputs": [
    {
     "name": "stdout",
     "output_type": "stream",
     "text": [
      "apple\n",
      "banana\n",
      "grape\n",
      "orange\n",
      "watermelon\n",
      "\n",
      "red\n",
      "yellow\n",
      "purple\n",
      "orange\n",
      "green\n"
     ]
    }
   ],
   "source": [
    "# Looping through dict\n",
    "for x in fruits_dict: # all keys , one by one\n",
    "    print(x)\n",
    "print()\n",
    "for x in fruits_dict: # all values ,\n",
    "    print(fruits_dict[x])"
   ]
  },
  {
   "cell_type": "code",
   "execution_count": 48,
   "metadata": {},
   "outputs": [
    {
     "name": "stdout",
     "output_type": "stream",
     "text": [
      "apple\n",
      "banana\n",
      "grape\n",
      "orange\n",
      "watermelon\n",
      "\n",
      "red\n",
      "yellow\n",
      "purple\n",
      "orange\n",
      "green\n"
     ]
    }
   ],
   "source": [
    "# printing keys and valus using keys() & values resp\n",
    "for x in fruits_dict.keys():\n",
    "    print(x)\n",
    "print()   \n",
    "\n",
    "for x in fruits_dict.values():\n",
    "    print(x)"
   ]
  },
  {
   "cell_type": "code",
   "execution_count": 53,
   "metadata": {},
   "outputs": [
    {
     "name": "stdout",
     "output_type": "stream",
     "text": [
      "apple : red\n",
      "banana : yellow\n",
      "grape : purple\n",
      "orange : orange\n",
      "watermelon : green\n"
     ]
    }
   ],
   "source": [
    "# loop thr both keys and values\n",
    "for x,y in fruits_dict.items():\n",
    "    print(x  , ':', y)"
   ]
  },
  {
   "cell_type": "code",
   "execution_count": 55,
   "metadata": {},
   "outputs": [
    {
     "name": "stdout",
     "output_type": "stream",
     "text": [
      "{'apple': 'red', 'banana': 'yellow', 'grape': 'purple', 'orange': 'orange', 'watermelon': 'green'}\n"
     ]
    }
   ],
   "source": [
    "# copy the dict\n",
    "fd = fruits_dict.copy()\n",
    "print(fd)"
   ]
  },
  {
   "cell_type": "code",
   "execution_count": 57,
   "metadata": {},
   "outputs": [
    {
     "name": "stdout",
     "output_type": "stream",
     "text": [
      "{'apple': 'red', 'banana': 'yellow', 'grape': 'purple', 'orange': 'orange', 'watermelon': 'green'}\n"
     ]
    }
   ],
   "source": [
    "# using dict()\n",
    "fd1 =  dict(fruits_dict)\n",
    "print(fd1)"
   ]
  },
  {
   "cell_type": "code",
   "execution_count": 2,
   "metadata": {},
   "outputs": [
    {
     "name": "stdout",
     "output_type": "stream",
     "text": [
      "{1: 10, 2: 20, 3: 30, 4: 40, 5: 50, 6: 60}\n"
     ]
    }
   ],
   "source": [
    "'''3. Write a Python script to concatenate the following dictionaries to create a new one.\n",
    "Sample Dictionary :\n",
    "dic1={1:10, 2:20}\n",
    "dic2={3:30, 4:40}\n",
    "dic3={5:50,6:60}\n",
    "Expected Result : {1: 10, 2: 20, 3: 30, 4: 40, 5: 50, 6: 60}'''\n",
    "dic1={1:10, 2:20}\n",
    "dic2={3:30, 4:40}\n",
    "dic3={5:50,6:60}\n",
    "dic4 = {}\n",
    "\n",
    "for d in (dic1,dic2,dic3):\n",
    "    dic4.update(d)\n",
    "\n",
    "print(dic4)"
   ]
  },
  {
   "cell_type": "code",
   "execution_count": 5,
   "metadata": {},
   "outputs": [
    {
     "name": "stdout",
     "output_type": "stream",
     "text": [
      "yes\n"
     ]
    }
   ],
   "source": [
    "# Write a Python script to check whether a given key already exists in a dictionary.\n",
    "dsd = {1: 10, 2: 20, 3: 30, 4: 40, 5: 50, 6: 60}\n",
    "if 6 in dsd:\n",
    "    print('yes')\n",
    "else:\n",
    "    print('no')    "
   ]
  },
  {
   "cell_type": "code",
   "execution_count": 8,
   "metadata": {},
   "outputs": [
    {
     "name": "stdout",
     "output_type": "stream",
     "text": [
      "1 - 10\n",
      "2 - 20\n",
      "3 - 30\n",
      "4 - 40\n",
      "5 - 50\n",
      "6 - 60\n"
     ]
    }
   ],
   "source": [
    "for key,value in dsd.items():\n",
    "    print(f'{key} - {value}')"
   ]
  },
  {
   "cell_type": "code",
   "execution_count": 12,
   "metadata": {},
   "outputs": [
    {
     "name": "stdout",
     "output_type": "stream",
     "text": [
      "{1: 1, 2: 4, 3: 9, 4: 16, 5: 25}\n"
     ]
    }
   ],
   "source": [
    "'''Write a Python script to generate and print a dictionary that contains a \n",
    "number (between 1 and n) in the form (x, x*x).\n",
    "Sample Dictionary ( n = 5) :\n",
    "Expected Output : {1: 1, 2: 4, 3: 9, 4: 16, 5: 25}'''\n",
    "n = 5\n",
    "d = {}\n",
    "\n",
    "for x in range(1,n+1):\n",
    "    d[x] = x*x\n",
    "\n",
    "print(d)"
   ]
  },
  {
   "cell_type": "code",
   "execution_count": 21,
   "metadata": {},
   "outputs": [
    {
     "name": "stdout",
     "output_type": "stream",
     "text": [
      "{1: 1, 2: 4, 3: 9, 4: 16, 5: 25, 6: 36, 7: 49, 8: 64, 9: 81, 10: 100, 11: 121, 12: 144, 13: 169, 14: 196, 15: 225}\n",
      "{1: 1, 2: 4, 4: 16, 5: 25, 6: 36, 7: 49, 8: 64, 9: 81, 10: 100, 11: 121, 12: 144, 13: 169, 14: 196}\n"
     ]
    }
   ],
   "source": [
    "''' Write a Python script to print a dictionary where the keys are numbers between \n",
    "1 and 15 (both included) and the values are the square of the keys'''\n",
    "d = dict()\n",
    "for x in range(1,16):\n",
    "    d[x] = x*x\n",
    "\n",
    "print(d)\n",
    "\n",
    "d.pop(3)\n",
    "d.popitem()\n",
    "print(d)"
   ]
  },
  {
   "cell_type": "code",
   "execution_count": 18,
   "metadata": {},
   "outputs": [
    {
     "name": "stdout",
     "output_type": "stream",
     "text": [
      "dict_values([100, -54, 247])\n",
      "293\n"
     ]
    }
   ],
   "source": [
    "#Sum all the items in a dictionary\n",
    "my_dict = {'data1': 100, 'data2': -54, 'data3': 247}\n",
    "values = my_dict.values()\n",
    "print(values)\n",
    "s = 0\n",
    "for i in values:\n",
    "    s += i\n",
    "print(s)    "
   ]
  },
  {
   "cell_type": "code",
   "execution_count": 24,
   "metadata": {},
   "outputs": [
    {
     "name": "stdout",
     "output_type": "stream",
     "text": [
      "{'red': '#FF0000', 'green': '#008000', 'blue': '#0000FF'}\n"
     ]
    }
   ],
   "source": [
    "# Map two lists into a dictionary\n",
    "keys = ['red', 'green', 'blue']\n",
    "\n",
    "# Create another list 'values' containing corresponding color codes in hexadecimal format.\n",
    "values = ['#FF0000', '#008000', '#0000FF']\n",
    "\n",
    "clr_dict = zip(keys,values)\n",
    "print(dict(clr_dict))"
   ]
  },
  {
   "cell_type": "code",
   "execution_count": 25,
   "metadata": {},
   "outputs": [],
   "source": [
    "# Write a Python program to sort a given dictionary by key.\n",
    "d1= { 'grape': 45, 'orange': 100, 'watermelon': 700,'apple': 5, 'banana': 80,}\n",
    "\n",
    "l = sorted(d1.keys())\n",
    "s = list()\n",
    "for ele in l:\n",
    "    s.append(d1[ele])    \n",
    "print(s)  \n",
    "d = sorted(zip(l,s))\n",
    "fd= dict(d)\n",
    "print(dict(fd))"
   ]
  },
  {
   "cell_type": "code",
   "execution_count": 27,
   "metadata": {},
   "outputs": [
    {
     "name": "stdout",
     "output_type": "stream",
     "text": [
      "orange\n",
      "apple\n"
     ]
    }
   ],
   "source": [
    "d1= { 'grape': 45, 'orange': 10000, 'watermelon': 700,'apple': 5, 'banana': 80,}\n",
    "\n",
    "maxval= max(d1, key=d1.get)\n",
    "print(maxval)\n",
    "minval= min(d1,key=d1.get)\n",
    "print(minval)"
   ]
  },
  {
   "cell_type": "code",
   "execution_count": null,
   "metadata": {},
   "outputs": [],
   "source": [
    "Assignment - Total Labour cost if the total working days was 50 out of which Mahesh was absent \n",
    "for 3 days and Jagmohan was abesnt for 7 days. Find out the total labour cost."
   ]
  },
  {
   "cell_type": "code",
   "execution_count": null,
   "metadata": {},
   "outputs": [],
   "source": []
  }
 ],
 "metadata": {
  "kernelspec": {
   "display_name": "Python 3",
   "language": "python",
   "name": "python3"
  },
  "language_info": {
   "codemirror_mode": {
    "name": "ipython",
    "version": 3
   },
   "file_extension": ".py",
   "mimetype": "text/x-python",
   "name": "python",
   "nbconvert_exporter": "python",
   "pygments_lexer": "ipython3",
   "version": "3.11.3"
  }
 },
 "nbformat": 4,
 "nbformat_minor": 2
}
