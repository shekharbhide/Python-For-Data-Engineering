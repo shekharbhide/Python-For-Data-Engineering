{
 "cells": [
  {
   "cell_type": "code",
   "execution_count": 6,
   "metadata": {},
   "outputs": [
    {
     "name": "stdout",
     "output_type": "stream",
     "text": [
      "shekhar krishna ram \n"
     ]
    }
   ],
   "source": [
    "names = ['shekhar','krishna','ram']\n",
    "result = ''\n",
    "\n",
    "for name in names:\n",
    "    result += name\n",
    "    result = result + ' '\n",
    "\n",
    "print(result)"
   ]
  },
  {
   "cell_type": "code",
   "execution_count": 7,
   "metadata": {},
   "outputs": [
    {
     "name": "stdout",
     "output_type": "stream",
     "text": [
      "shekhar krishna ram\n"
     ]
    }
   ],
   "source": [
    "# using .join() method\n",
    "result =' '.join(names)\n",
    "print(result)"
   ]
  },
  {
   "cell_type": "code",
   "execution_count": 8,
   "metadata": {},
   "outputs": [
    {
     "name": "stdout",
     "output_type": "stream",
     "text": [
      "shekhar * sachin * shreys * pawan\n"
     ]
    }
   ],
   "source": [
    "labour_cost = {'shekhar':200,'sachin':400, 'shreys':500, 'pawan':300}\n",
    "result = ' * '.join(labour_cost)\n",
    "print(result)"
   ]
  },
  {
   "cell_type": "code",
   "execution_count": 9,
   "metadata": {},
   "outputs": [
    {
     "ename": "TypeError",
     "evalue": "sequence item 0: expected str instance, int found",
     "output_type": "error",
     "traceback": [
      "\u001b[1;31m---------------------------------------------------------------------------\u001b[0m",
      "\u001b[1;31mTypeError\u001b[0m                                 Traceback (most recent call last)",
      "Cell \u001b[1;32mIn[9], line 3\u001b[0m\n\u001b[0;32m      1\u001b[0m \u001b[38;5;66;03m# join takes only str values , if give any other data type it will throw error\u001b[39;00m\n\u001b[0;32m      2\u001b[0m labour_cost \u001b[38;5;241m=\u001b[39m {\u001b[38;5;241m1\u001b[39m:\u001b[38;5;241m200\u001b[39m,\u001b[38;5;124m'\u001b[39m\u001b[38;5;124msachin\u001b[39m\u001b[38;5;124m'\u001b[39m:\u001b[38;5;241m400\u001b[39m, \u001b[38;5;124m'\u001b[39m\u001b[38;5;124mshreys\u001b[39m\u001b[38;5;124m'\u001b[39m:\u001b[38;5;241m500\u001b[39m, \u001b[38;5;124m'\u001b[39m\u001b[38;5;124mpawan\u001b[39m\u001b[38;5;124m'\u001b[39m:\u001b[38;5;241m300\u001b[39m}\n\u001b[1;32m----> 3\u001b[0m result \u001b[38;5;241m=\u001b[39m \u001b[38;5;124;43m'\u001b[39;49m\u001b[38;5;124;43m * \u001b[39;49m\u001b[38;5;124;43m'\u001b[39;49m\u001b[38;5;241;43m.\u001b[39;49m\u001b[43mjoin\u001b[49m\u001b[43m(\u001b[49m\u001b[43mlabour_cost\u001b[49m\u001b[43m)\u001b[49m\n\u001b[0;32m      4\u001b[0m \u001b[38;5;28mprint\u001b[39m(result)\n",
      "\u001b[1;31mTypeError\u001b[0m: sequence item 0: expected str instance, int found"
     ]
    }
   ],
   "source": [
    "# join takes only str values , if give any other data type it will throw error\n",
    "labour_cost = {1:200,'sachin':400, 'shreys':500, 'pawan':300}\n",
    "result = ' * '.join(labour_cost)\n",
    "print(result)"
   ]
  },
  {
   "cell_type": "code",
   "execution_count": 10,
   "metadata": {},
   "outputs": [],
   "source": [
    "state_dept_info = [{'state':'bihar','department':'IT'},\n",
    "                    {'state':'UP','department':'Sales'}                   \n",
    "                   ]\n",
    "\n",
    "query = '''SELECT \n",
    "    emp.emp_id,\n",
    "    emp.emp_name,\n",
    "    emp.salary,\n",
    "    dept.dept_name\n",
    "FROM \n",
    "    emp\n",
    "JOIN \n",
    "    dept ON emp.dept_id = dept.dept_id\n",
    "WHERE \n",
    "    emp.salary > 55000;\n",
    "'''"
   ]
  },
  {
   "cell_type": "code",
   "execution_count": 19,
   "metadata": {},
   "outputs": [
    {
     "name": "stdout",
     "output_type": "stream",
     "text": [
      "state=bihar\n",
      "department=IT\n",
      "state=UP\n",
      "department=Sales\n",
      "['state=bihar', 'department=IT', 'state=UP', 'department=Sales']\n"
     ]
    }
   ],
   "source": [
    "# write to code to make sql query in such way that it can have filter of state and dept\n",
    "finel_filter_condition = []\n",
    "for condition in state_dept_info:\n",
    "    for key,value in condition.items():\n",
    "        finel_filter_condition.append(f\"{key}={value}\")\n",
    "        print(f\"{key}={value}\")\n",
    "\n",
    "print(finel_filter_condition)"
   ]
  },
  {
   "cell_type": "code",
   "execution_count": 20,
   "metadata": {},
   "outputs": [
    {
     "name": "stdout",
     "output_type": "stream",
     "text": [
      "state=bihar OR department=IT OR state=UP OR department=Sales\n"
     ]
    }
   ],
   "source": [
    "finel_result = ' OR '.join(finel_filter_condition)\n",
    "print(finel_result)"
   ]
  },
  {
   "cell_type": "code",
   "execution_count": 21,
   "metadata": {},
   "outputs": [
    {
     "name": "stdout",
     "output_type": "stream",
     "text": [
      "SELECT \n",
      "    emp.emp_id,\n",
      "    emp.emp_name,\n",
      "    emp.salary,\n",
      "    dept.dept_name\n",
      "FROM \n",
      "    emp\n",
      "JOIN \n",
      "    dept ON emp.dept_id = dept.dept_id\n",
      "WHERE \n",
      "    emp.salary > 55000;\n",
      " AND state=bihar OR department=IT OR state=UP OR department=Sales\n"
     ]
    }
   ],
   "source": [
    "print(query + \" AND \" + finel_result)"
   ]
  }
 ],
 "metadata": {
  "kernelspec": {
   "display_name": "Python 3",
   "language": "python",
   "name": "python3"
  },
  "language_info": {
   "codemirror_mode": {
    "name": "ipython",
    "version": 3
   },
   "file_extension": ".py",
   "mimetype": "text/x-python",
   "name": "python",
   "nbconvert_exporter": "python",
   "pygments_lexer": "ipython3",
   "version": "3.10.10"
  }
 },
 "nbformat": 4,
 "nbformat_minor": 2
}
