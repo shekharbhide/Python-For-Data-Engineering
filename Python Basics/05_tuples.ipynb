{
 "cells": [
  {
   "cell_type": "code",
   "execution_count": 2,
   "metadata": {},
   "outputs": [
    {
     "name": "stdout",
     "output_type": "stream",
     "text": [
      "('apple', 'banana', 'cherry', 'orange')\n",
      "('orange', 'kiwi', 'melon')\n"
     ]
    }
   ],
   "source": [
    "thistuple = (\"apple\", \"banana\", \"cherry\", \"orange\", \"kiwi\", \"melon\", \"mango\")\n",
    "print(thistuple[:4])\n",
    "print(thistuple[-4:-1])"
   ]
  },
  {
   "cell_type": "code",
   "execution_count": 5,
   "metadata": {},
   "outputs": [
    {
     "name": "stdout",
     "output_type": "stream",
     "text": [
      "apple\n",
      "banana\n",
      "cherry\n"
     ]
    }
   ],
   "source": [
    "# unpack the tuples\n",
    "fruits = (\"apple\", \"banana\", \"cherry\")\n",
    "green , yellow,red = fruits\n",
    "print(green)\n",
    "print(yellow)\n",
    "print(red)"
   ]
  },
  {
   "cell_type": "code",
   "execution_count": 6,
   "metadata": {},
   "outputs": [
    {
     "name": "stdout",
     "output_type": "stream",
     "text": [
      "apple\n",
      "banana\n",
      "['cherry', 'strawberry', 'raspberry']\n"
     ]
    }
   ],
   "source": [
    "'''The number of variables must match the number of values in the tuple, if not, \n",
    "you must use an asterisk to collect the remaining values as a list.'''\n",
    "fruits = (\"apple\", \"banana\", \"cherry\", \"strawberry\", \"raspberry\")\n",
    "\n",
    "(green, yellow, *red) = fruits\n",
    "\n",
    "print(green)\n",
    "print(yellow)\n",
    "print(red)"
   ]
  },
  {
   "cell_type": "code",
   "execution_count": 7,
   "metadata": {},
   "outputs": [
    {
     "name": "stdout",
     "output_type": "stream",
     "text": [
      "apple\n",
      "['mango', 'papaya', 'pineapple']\n",
      "cherry\n"
     ]
    }
   ],
   "source": [
    "fruits = (\"apple\", \"mango\", \"papaya\", \"pineapple\", \"cherry\")\n",
    "\n",
    "(green, *tropic, red) = fruits\n",
    "\n",
    "print(green)\n",
    "print(tropic)\n",
    "print(red)"
   ]
  },
  {
   "cell_type": "code",
   "execution_count": 11,
   "metadata": {},
   "outputs": [
    {
     "name": "stdout",
     "output_type": "stream",
     "text": [
      "(5, 6, 6, 7, 8, 9, 3)\n"
     ]
    }
   ],
   "source": [
    "# write a program to return entire element as a tuple which can have a list in the tuple inputs\n",
    "tpl = ([5,6], [6,7,8,9], [3])\n",
    "\n",
    "new_tpl = ()\n",
    "for i in tpl:\n",
    "    lst = tuple(i)\n",
    "    new_tpl = new_tpl + lst\n",
    "print(new_tpl)    \n",
    "\n"
   ]
  },
  {
   "cell_type": "code",
   "execution_count": 24,
   "metadata": {},
   "outputs": [
    {
     "name": "stdout",
     "output_type": "stream",
     "text": [
      "[1000, 64, 81, 125]\n"
     ]
    }
   ],
   "source": [
    "#write toThePower\n",
    "tpl1 = (10,2,3,5)\n",
    "tpl2 = (3,6,4,3)\n",
    "\n",
    "tpl3=[]\n",
    "for i in range(len(tpl1)):\n",
    "    tpl3.append(pow(tpl1[i],tpl2[i]))\n",
    "\n",
    "print(tpl3)        \n",
    "\n"
   ]
  },
  {
   "cell_type": "code",
   "execution_count": 6,
   "metadata": {},
   "outputs": [
    {
     "name": "stdout",
     "output_type": "stream",
     "text": [
      "None\n"
     ]
    }
   ],
   "source": []
  }
 ],
 "metadata": {
  "kernelspec": {
   "display_name": "Python 3",
   "language": "python",
   "name": "python3"
  },
  "language_info": {
   "codemirror_mode": {
    "name": "ipython",
    "version": 3
   },
   "file_extension": ".py",
   "mimetype": "text/x-python",
   "name": "python",
   "nbconvert_exporter": "python",
   "pygments_lexer": "ipython3",
   "version": "3.10.10"
  }
 },
 "nbformat": 4,
 "nbformat_minor": 2
}
