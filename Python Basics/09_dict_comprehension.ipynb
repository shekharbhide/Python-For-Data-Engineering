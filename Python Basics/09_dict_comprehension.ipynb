{
 "cells": [
  {
   "cell_type": "code",
   "execution_count": 18,
   "metadata": {},
   "outputs": [],
   "source": [
    "labour_cost = {\"Mahesh\":500, \"Ramesh\":400, \"Mithilesh\":400, \"Sumesh\":300, \n",
    "                    \"Jagmohan\":1000, \"Rampyare\":800}"
   ]
  },
  {
   "cell_type": "code",
   "execution_count": 19,
   "metadata": {},
   "outputs": [
    {
     "name": "stdout",
     "output_type": "stream",
     "text": [
      "{'Mahesh': 600, 'Ramesh': 500, 'Mithilesh': 500, 'Sumesh': 400, 'Jagmohan': 1100, 'Rampyare': 900}\n"
     ]
    }
   ],
   "source": [
    "labour_cost = {key:labour_cost.get(key)+100 for key in labour_cost }\n",
    "print(labour_cost)"
   ]
  },
  {
   "cell_type": "code",
   "execution_count": 22,
   "metadata": {},
   "outputs": [
    {
     "name": "stdout",
     "output_type": "stream",
     "text": [
      "{'Mahesh': 1200, 'Ramesh': 1100, 'Mithilesh': 1100, 'Sumesh': 1000, 'Jagmohan': 1700, 'Rampyare': 1500}\n"
     ]
    }
   ],
   "source": [
    "labour_cost = {key:labour_cost.get(key)+100 for key in labour_cost }\n",
    "print(labour_cost)"
   ]
  },
  {
   "cell_type": "code",
   "execution_count": 23,
   "metadata": {},
   "outputs": [
    {
     "name": "stdout",
     "output_type": "stream",
     "text": [
      "{'Mahesh': 1200, 'Ramesh': 1200, 'Mithilesh': 1200, 'Sumesh': 1100, 'Jagmohan': 1800, 'Rampyare': 1600}\n"
     ]
    }
   ],
   "source": [
    "labour_cost = {key:labour_cost.get(key)+100 if key !='Mahesh' else labour_cost.get(key) \n",
    "               for key in labour_cost}\n",
    "print(labour_cost)\n"
   ]
  },
  {
   "cell_type": "code",
   "execution_count": 25,
   "metadata": {},
   "outputs": [
    {
     "name": "stdout",
     "output_type": "stream",
     "text": [
      "{'N': 1}\n",
      "{'N': 1, 'a': 1}\n",
      "{'N': 1, 'a': 1, 'm': 1}\n",
      "{'N': 1, 'a': 2, 'm': 1}\n",
      "{'N': 1, 'a': 2, 'm': 1, 'n': 1}\n",
      "{'N': 1, 'a': 2, 'm': 1, 'n': 1}\n"
     ]
    }
   ],
   "source": [
    "name = 'Naman'\n",
    "\n",
    "letter_count = {}\n",
    "for char in name:\n",
    "    if char in letter_count:\n",
    "        letter_count[char] += 1\n",
    "    else:\n",
    "        letter_count[char] = 1\n",
    "    print(letter_count)         \n",
    "\n",
    "print(letter_count)"
   ]
  }
 ],
 "metadata": {
  "kernelspec": {
   "display_name": "Python 3",
   "language": "python",
   "name": "python3"
  },
  "language_info": {
   "codemirror_mode": {
    "name": "ipython",
    "version": 3
   },
   "file_extension": ".py",
   "mimetype": "text/x-python",
   "name": "python",
   "nbconvert_exporter": "python",
   "pygments_lexer": "ipython3",
   "version": "3.10.10"
  }
 },
 "nbformat": 4,
 "nbformat_minor": 2
}
