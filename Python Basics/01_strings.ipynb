{
 "cells": [
  {
   "cell_type": "code",
   "execution_count": 17,
   "metadata": {},
   "outputs": [
    {
     "name": "stdout",
     "output_type": "stream",
     "text": [
      "e World\n",
      "World\n",
      "ste\n",
      "ste\n"
     ]
    }
   ],
   "source": [
    "#string slicing\n",
    "s = 'Namaste World'\n",
    "\n",
    "\n",
    "print(s[6:])\n",
    "print(s[-5:])\n",
    "print(s[4:7])\n",
    "print(s[-9:-6])"
   ]
  },
  {
   "cell_type": "code",
   "execution_count": 3,
   "metadata": {},
   "outputs": [
    {
     "name": "stdout",
     "output_type": "stream",
     "text": [
      "Radha Krishna\n"
     ]
    }
   ],
   "source": [
    "#string conactetio n\n",
    "\n",
    "a1 = 'Radha'\n",
    "a2 = 'Krishna'\n",
    "print(a1+' '+a2)"
   ]
  },
  {
   "cell_type": "code",
   "execution_count": 6,
   "metadata": {},
   "outputs": [
    {
     "name": "stdout",
     "output_type": "stream",
     "text": [
      "hare krishna hare krishna hare krishna hare krishna hare krishna hare krishna hare krishna hare krishna hare krishna hare krishna \n"
     ]
    }
   ],
   "source": [
    "#string repition\n",
    "print('hare krishna ' * 10)\n"
   ]
  },
  {
   "cell_type": "code",
   "execution_count": 29,
   "metadata": {},
   "outputs": [
    {
     "name": "stdout",
     "output_type": "stream",
     "text": [
      "My name is Shekhar, age is 21, doing Btech\n",
      "My name is Shekhar, age is 21, doing Btech\n",
      "My Name is Shekhar, age is 21, doing Btech\n"
     ]
    }
   ],
   "source": [
    "# print formattings\n",
    "name = 'Shekhar'\n",
    "age = '21'\n",
    "education = 'Btech'\n",
    "print('My name is %s, age is %s, doing %s' % (name, age , education))\n",
    "\n",
    "print('My name is {}, age is {}, doing {}'.format(name,age,education))\n",
    "\n",
    "print(f'My Name is {name}, age is {age}, doing {education}')"
   ]
  },
  {
   "cell_type": "code",
   "execution_count": 31,
   "metadata": {},
   "outputs": [
    {
     "name": "stdout",
     "output_type": "stream",
     "text": [
      "hello vijay\n"
     ]
    }
   ],
   "source": [
    "my_string = 'hello'\n",
    "name = 'vijay'\n",
    "print(my_string + ' ' + name)"
   ]
  },
  {
   "cell_type": "code",
   "execution_count": 1,
   "metadata": {},
   "outputs": [
    {
     "name": "stdout",
     "output_type": "stream",
     "text": [
      "\n"
     ]
    }
   ],
   "source": [
    "'''\n",
    "Write a Python program to get a string made of the first 2 and last 2 characters of a given string. If the string length is less than 2, return the empty string instead.\n",
    "Sample String : 'w3resource'\n",
    "Expected Result : 'w3ce'\n",
    "Sample String : 'w3'\n",
    "Expected Result : 'w3w3'\n",
    "Sample String : 'w'\n",
    "Expected Result : Empty String\n",
    "'''\n",
    "str = 'w'\n",
    "if len(str)>=2:\n",
    "    print(str[0:2] + str[-2:])    \n",
    "else:\n",
    "    print('')"
   ]
  },
  {
   "cell_type": "code",
   "execution_count": 11,
   "metadata": {},
   "outputs": [
    {
     "name": "stdout",
     "output_type": "stream",
     "text": [
      "['r', 'e', 's', 't', 'a', '$', 't']\n",
      "resta$t\n"
     ]
    }
   ],
   "source": [
    "'''\n",
    "Write a Python program to get a string from a given string where all occurrences of its first \n",
    "char have been changed to '$', except the first char itself.\n",
    "Sample String : 'restart'\n",
    "Expected Result : 'resta$t\n",
    "'''\n",
    "sr = 'restart'\n",
    "li = list(sr)\n",
    "c =li[0]\n",
    "n = len(li)\n",
    "for i in range(1,n):\n",
    "    if li[i] == c:\n",
    "        li[i]='$'\n",
    "print(li)         \n",
    "\n",
    "modified_li = ''.join(li)\n",
    "print(modified_li)"
   ]
  },
  {
   "cell_type": "code",
   "execution_count": 16,
   "metadata": {},
   "outputs": [
    {
     "name": "stdout",
     "output_type": "stream",
     "text": [
      "$ameshwa$am\n",
      "rameshwa$am\n"
     ]
    }
   ],
   "source": [
    "str = 'rameshwaram'\n",
    "char = str[0]\n",
    "str = str.replace(char,'$')\n",
    "print(str)\n",
    "str = char + str[1:]\n",
    "print(str)"
   ]
  },
  {
   "cell_type": "code",
   "execution_count": 8,
   "metadata": {},
   "outputs": [
    {
     "data": {
      "text/plain": [
       "'PYTHON'"
      ]
     },
     "execution_count": 8,
     "metadata": {},
     "output_type": "execute_result"
    }
   ],
   "source": [
    "# string slicing\n",
    "a = \"PYTHON\"\n",
    "a[2:]\n",
    "a[-1:]\n",
    "a[-3:]\n",
    "a[:-2]\n",
    "a[:]"
   ]
  },
  {
   "cell_type": "code",
   "execution_count": 9,
   "metadata": {},
   "outputs": [
    {
     "name": "stdout",
     "output_type": "stream",
     "text": [
      "0\n"
     ]
    }
   ],
   "source": [
    "print('abbcabcacabb'.count('abb',-10,-1))\n"
   ]
  },
  {
   "cell_type": "code",
   "execution_count": 10,
   "metadata": {},
   "outputs": [
    {
     "name": "stdout",
     "output_type": "stream",
     "text": [
      "1\n"
     ]
    }
   ],
   "source": [
    "print('abbcabcacabb'.count('bb',2))\n"
   ]
  },
  {
   "cell_type": "code",
   "execution_count": 11,
   "metadata": {},
   "outputs": [
    {
     "data": {
      "text/plain": [
       "'n'"
      ]
     },
     "execution_count": 11,
     "metadata": {},
     "output_type": "execute_result"
    }
   ],
   "source": [
    "str1 = 'python'\n",
    "str1[-1:]"
   ]
  },
  {
   "cell_type": "code",
   "execution_count": 12,
   "metadata": {},
   "outputs": [
    {
     "name": "stdout",
     "output_type": "stream",
     "text": [
      "robin roy\n"
     ]
    }
   ],
   "source": [
    "class Name:\n",
    "    def __init__(self, firstName,mi, lastName):\n",
    "        self.firstName = firstName\n",
    "        self.mi = mi\n",
    "        self.lastName = lastName\n",
    "\n",
    "firstName = 'robin'\n",
    "name = Name(firstName,'F','smith')\n",
    "firstName ='jack'\n",
    "name.lastName = 'roy'\n",
    "print(name.firstName, name.lastName)"
   ]
  },
  {
   "cell_type": "code",
   "execution_count": null,
   "metadata": {},
   "outputs": [],
   "source": []
  }
 ],
 "metadata": {
  "kernelspec": {
   "display_name": "Python 3",
   "language": "python",
   "name": "python3"
  },
  "language_info": {
   "codemirror_mode": {
    "name": "ipython",
    "version": 3
   },
   "file_extension": ".py",
   "mimetype": "text/x-python",
   "name": "python",
   "nbconvert_exporter": "python",
   "pygments_lexer": "ipython3",
   "version": "3.11.3"
  }
 },
 "nbformat": 4,
 "nbformat_minor": 2
}
