{
 "cells": [
  {
   "cell_type": "code",
   "execution_count": 19,
   "metadata": {},
   "outputs": [
    {
     "name": "stdout",
     "output_type": "stream",
     "text": [
      "25\n",
      "25\n",
      "30\n"
     ]
    }
   ],
   "source": [
    "# defining class\n",
    "class Employee:\n",
    "    def __init__(self):\n",
    "        self.name =  'sb'\n",
    "        self.age = 25\n",
    "\n",
    "    def update(self):\n",
    "        self.age = 30  \n",
    "        \n",
    "    \n",
    "emp1  = Employee()\n",
    "emp2 = Employee()\n",
    "print(emp2.age)\n",
    "print(emp1.age)\n",
    "emp1.update()\n",
    "print(emp1.age)\n"
   ]
  },
  {
   "cell_type": "code",
   "execution_count": null,
   "metadata": {},
   "outputs": [],
   "source": [
    "class Car:\n",
    "    comany = 'totyota'\n",
    "    def __init__(self, model,color):\n",
    "        self.model = model\n",
    "        self.color= color\n",
    "\n",
    "    def     "
   ]
  }
 ],
 "metadata": {
  "kernelspec": {
   "display_name": "Python 3",
   "language": "python",
   "name": "python3"
  },
  "language_info": {
   "codemirror_mode": {
    "name": "ipython",
    "version": 3
   },
   "file_extension": ".py",
   "mimetype": "text/x-python",
   "name": "python",
   "nbconvert_exporter": "python",
   "pygments_lexer": "ipython3",
   "version": "3.11.3"
  }
 },
 "nbformat": 4,
 "nbformat_minor": 2
}
