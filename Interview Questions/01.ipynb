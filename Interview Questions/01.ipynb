{
 "cells": [
  {
   "cell_type": "code",
   "execution_count": null,
   "metadata": {},
   "outputs": [],
   "source": [
    "'''Q1. Secure the PII data.\n",
    "Input = [\"mverma6250@gmail.com\",\"ramesh02@hotmail.com\",\n",
    "        \"sohansingh@gmail.com\",\"swatirahane@outlook.com\"]\n",
    "\n",
    "Input = [\"m********0@gmail.com\",\"r******2@hotmail.com\",\n",
    "        \"s********h@gmail.com\",\"s*********e@outlook.com\"]\n",
    "'''"
   ]
  },
  {
   "cell_type": "code",
   "execution_count": null,
   "metadata": {},
   "outputs": [],
   "source": [
    "'''\n",
    "Q2. Print the list of all unique ip addresses?\n",
    "\n",
    "Input:- \n",
    "[\"/region//us-east-a/north/resource/vminsatnce/subsid/ae-456-df/server/10.168.155.2\",\n",
    "\"/region//us-east-b/north/resource/vminsatnce/subsid/ae-456-df/server/10.168.156.2\",\n",
    "\"/region//us-east-c/north/resource/vminsatnce/subsid/ae-456-df/server/10.168.151.2\",\n",
    "\"/region/japan/north/resource/vminsatnce/subsid/ae-456-df/server/10.168.155.22\",\n",
    "\"/region/india/north/resource/vminsatnce/subsid/ae-456-df/server/10.168.167.2\",\n",
    "\"/region//us-east-a/north/resource/vminsatnce/subsid/ae-456-df/server/10.168.179.28\",\n",
    "\"/region//us-east-b/north/resource/vminsatnce/subsid/ae-456-df/server/10.168.155.31\",\n",
    "\"/region//us-east-c/north/resource/vminsatnce/subsid/ae-456-df/server/10.168.151.2\"\n",
    "]\n",
    "\n",
    "Output:- [\"10.168.155.2\",\"10.168.156.2\",\"10.168.151.2\"\n",
    "           \"10.168.155.22\",\"10.168.167.2\",\n",
    "           \"10.168.179.28\",\"10.168.155.31\" ]\n",
    "           \n",
    "'''"
   ]
  }
 ],
 "metadata": {
  "language_info": {
   "name": "python"
  }
 },
 "nbformat": 4,
 "nbformat_minor": 2
}
